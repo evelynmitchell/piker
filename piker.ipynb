{
  "nbformat": 4,
  "nbformat_minor": 0,
  "metadata": {
    "colab": {
      "private_outputs": true,
      "provenance": []
    },
    "kernelspec": {
      "name": "python3",
      "display_name": "Python 3"
    },
    "language_info": {
      "name": "python"
    }
  },
  "cells": [
    {
      "cell_type": "code",
      "execution_count": null,
      "metadata": {
        "id": "L7DpFyMZgKLh"
      },
      "outputs": [],
      "source": [
        "!git clone https://github.com/pikers/piker.git\n",
        "%cd /content/piker\n",
        "%pwd\n",
        "!pip install -r requirements.txt -e ."
      ]
    },
    {
      "cell_type": "code",
      "source": [],
      "metadata": {
        "id": "FOziAGR1iJpE"
      },
      "execution_count": null,
      "outputs": []
    }
  ]
}